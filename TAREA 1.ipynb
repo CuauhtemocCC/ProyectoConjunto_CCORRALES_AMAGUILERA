{
 "cells": [
  {
   "cell_type": "markdown",
   "metadata": {},
   "source": [
    "# Tarea 1"
   ]
  },
  {
   "cell_type": "markdown",
   "metadata": {},
   "source": [
    "## Parte 1: Expectativas del curso"
   ]
  },
  {
   "cell_type": "markdown",
   "metadata": {},
   "source": [
    "**Cuauhtémoc:**"
   ]
  },
  {
   "cell_type": "markdown",
   "metadata": {},
   "source": [
    "Hola!!! , mis expectivas de la materia no son muy claras ya que no entiendo satisfactoriamente lo que es el mundo de la programación. Es un área de estudio y trabajo impresionante que ha ayudado al desarrollo de la humanidad. Al saber de este hecho, me da una gran curiosidad saber más sobre este tema. No espero ser un experto programador pero si absorber los conocimientos suficientes para emprender mi empresa por el camino de la programación y simulación."
   ]
  },
  {
   "cell_type": "code",
   "execution_count": null,
   "metadata": {},
   "outputs": [],
   "source": []
  },
  {
   "cell_type": "markdown",
   "metadata": {},
   "source": [
    "**Ana Maria:**"
   ]
  },
  {
   "cell_type": "markdown",
   "metadata": {},
   "source": [
    "Hola, mi nombre es Ana María Aguilera Gómez. Mis expectativas de la materia son, en primera estancia, lograr aprender lo más posible relacionado con las simulaciones de procesos financieros, así como comprender de mejor manera el panorama de la programación que, aunque es muy interesante, es también muy difícil de aprender en mi opinión y requiere de mucha práctica al menos para mi modo personal de aprendizaje. Por último, espero que todo lo que aprenda en este curso me pueda ayudar en mi futuro, sobre todo en el ámbito laboral."
   ]
  },
  {
   "cell_type": "code",
   "execution_count": null,
   "metadata": {},
   "outputs": [],
   "source": []
  },
  {
   "cell_type": "markdown",
   "metadata": {},
   "source": [
    "## Parte 2: Imitación de figuras"
   ]
  },
  {
   "cell_type": "markdown",
   "metadata": {},
   "source": [
    "### **Figura 1**"
   ]
  },
  {
   "cell_type": "markdown",
   "metadata": {},
   "source": [
    "| i |   x  |  f(x)  |\n",
    "|:-:|:----:|:------:|\n",
    "| 0 |  -1  | 0.3678 |\n",
    "| 1 | -0.5 | 0.7788 |\n",
    "| 2 |   0  |    1   |\n",
    "| 3 |  0.5 | 0.7788 |\n",
    "| 4 |   1  | 0.3678 |"
   ]
  },
  {
   "cell_type": "markdown",
   "metadata": {},
   "source": [
    "\\begin{center}\n",
    "Cuadro 1: Tabla de valores de $$f(x)$$\n",
    "\\end{center}"
   ]
  },
  {
   "cell_type": "markdown",
   "metadata": {},
   "source": []
  },
  {
   "cell_type": "markdown",
   "metadata": {},
   "source": []
  },
  {
   "cell_type": "markdown",
   "metadata": {},
   "source": []
  },
  {
   "cell_type": "markdown",
   "metadata": {},
   "source": []
  },
  {
   "cell_type": "markdown",
   "metadata": {},
   "source": []
  },
  {
   "cell_type": "markdown",
   "metadata": {},
   "source": []
  },
  {
   "cell_type": "code",
   "execution_count": null,
   "metadata": {},
   "outputs": [],
   "source": []
  },
  {
   "cell_type": "code",
   "execution_count": null,
   "metadata": {},
   "outputs": [],
   "source": []
  },
  {
   "cell_type": "code",
   "execution_count": null,
   "metadata": {},
   "outputs": [],
   "source": []
  },
  {
   "cell_type": "markdown",
   "metadata": {},
   "source": [
    "### **Figura 2**"
   ]
  },
  {
   "cell_type": "markdown",
   "metadata": {},
   "source": [
    "| i               | 1   | 2   | 3   | 4   | 5 | 6 | 7  |\n",
    "|:--------------  |:---:|:---:|:---:|:---:|:-:|:-:|---:|\n",
    "| $$E_i(V)$$      | 12  | 10  | 24  | 12  | - | - | -  |\n",
    "| $$r_i(\\Omega)$$ | 0.1 | 0.5 | 0.2 | 0.5 | - | - | -  |\n",
    "| $$R_i(\\Omega)$$ | 25  | 40  | 16  | 20  | 9 | 4 | 20 |"
   ]
  },
  {
   "cell_type": "markdown",
   "metadata": {},
   "source": [
    "<font color= blue > Kemna y Vorst (1990) </font> muestran que las opciones asiáticas con media geométrica continua se pueden valuar con el mismo enfoque de las opciones *plain vanilla*; solo se deben cambiar los parámetros de volatilidad $\\sigma$ por $\\sigma_a$, y el costo de acarreo $b$ por $b_A$.\n",
    "\n",
    "  De acuerdo con Kemna y Vorst, las fórmulas para valuar una opción de compra y una opción de venta son:"
   ]
  },
  {
   "cell_type": "markdown",
   "metadata": {},
   "source": [
    "$c\\approx S_te^{(b_A-r)(T-t)}\\phi(d_1)-Ke^{-r(T-t)}\\phi(d_2)$,"
   ]
  },
  {
   "cell_type": "markdown",
   "metadata": {},
   "source": [
    "$p\\approx Ke^{-r(T-t)}\\phi(-d_2)-S_te^{(b_A-r)(T-t)}\\phi(-d_1).$"
   ]
  },
  {
   "cell_type": "markdown",
   "metadata": {},
   "source": [
    "con $d_1$ y $d_2$ dados por:"
   ]
  },
  {
   "cell_type": "markdown",
   "metadata": {},
   "source": [
    "### $d_1=\\frac{\\ln{(S_t/K)}+(b_A+1/2\\sigma^2_a)(T-t)}{\\sigma\\sqrt{T-t}},$"
   ]
  },
  {
   "cell_type": "markdown",
   "metadata": {},
   "source": [
    "$d_2=d_1-\\sigma_a\\sqrt{T-t}.$"
   ]
  },
  {
   "cell_type": "markdown",
   "metadata": {},
   "source": [
    "La función $\\phi(d)$ es la función de distribución acumulada de $E$~$N(0,1).$ La volatilidad ajustada es igual a:\n",
    "\n",
    "### $\\sigma_a=\\frac{\\sigma}{\\sqrt{3}},$"
   ]
  },
  {
   "cell_type": "markdown",
   "metadata": {},
   "source": [
    "mientras que el costo de acarreo ajustado es:\n",
    "\n",
    "$b_A=\\frac{1}{2}(v-\\frac{\\sigma^2}{6}).$"
   ]
  },
  {
   "cell_type": "markdown",
   "metadata": {},
   "source": []
  },
  {
   "cell_type": "code",
   "execution_count": null,
   "metadata": {},
   "outputs": [],
   "source": []
  },
  {
   "cell_type": "code",
   "execution_count": null,
   "metadata": {},
   "outputs": [],
   "source": []
  },
  {
   "cell_type": "code",
   "execution_count": null,
   "metadata": {},
   "outputs": [],
   "source": []
  },
  {
   "cell_type": "code",
   "execution_count": null,
   "metadata": {},
   "outputs": [],
   "source": []
  }
 ],
 "metadata": {
  "kernelspec": {
   "display_name": "Python 3",
   "language": "python",
   "name": "python3"
  },
  "language_info": {
   "codemirror_mode": {
    "name": "ipython",
    "version": 3
   },
   "file_extension": ".py",
   "mimetype": "text/x-python",
   "name": "python",
   "nbconvert_exporter": "python",
   "pygments_lexer": "ipython3",
   "version": "3.8.5"
  }
 },
 "nbformat": 4,
 "nbformat_minor": 4
}
